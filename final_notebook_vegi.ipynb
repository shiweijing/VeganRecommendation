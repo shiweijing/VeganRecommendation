{
 "cells": [
  {
   "cell_type": "markdown",
   "metadata": {},
   "source": [
    "## __Objective:__ Create a binary image classifier\n",
    "\n",
    "\n",
    "### Use transfer learning and vgg16 model"
   ]
  },
  {
   "cell_type": "markdown",
   "metadata": {},
   "source": [
    "### importing necessary libraries"
   ]
  },
  {
   "cell_type": "code",
   "execution_count": 2,
   "metadata": {},
   "outputs": [],
   "source": [
    "import pandas as pd\n",
    "import numpy as np \n",
    "import itertools\n",
    "from tensorflow import keras\n",
    "from sklearn import metrics\n",
    "from sklearn.metrics import confusion_matrix\n",
    "from tensorflow.keras.preprocessing.image import ImageDataGenerator, img_to_array, load_img \n",
    "from tensorflow.keras.models import Sequential \n",
    "from tensorflow.keras import optimizers\n",
    "from tensorflow.keras.preprocessing import image\n",
    "from tensorflow.keras.layers import Dropout, Flatten, Dense  \n",
    "from tensorflow.keras import applications  \n",
    "from tensorflow.keras.utils import to_categorical  \n",
    "import matplotlib.pyplot as plt \n",
    "import matplotlib.image as mpimg\n",
    "%matplotlib inline\n",
    "import math  \n",
    "import datetime\n",
    "import time\n"
   ]
  },
  {
   "cell_type": "code",
   "execution_count": 9,
   "metadata": {},
   "outputs": [],
   "source": [
    "from PIL import ImageFile\n",
    "ImageFile.LOAD_TRUNCATED_IMAGES = True"
   ]
  },
  {
   "cell_type": "markdown",
   "metadata": {},
   "source": [
    "Loading up our image datasets"
   ]
  },
  {
   "cell_type": "code",
   "execution_count": 23,
   "metadata": {},
   "outputs": [],
   "source": [
    "#Default dimensions we found online\n",
    "img_width, img_height = 224, 224  \n",
    "   \n",
    "#Create a bottleneck file\n",
    "top_model_weights_path = 'bottleneck_fc_model_densenet.h5' \n",
    "\n",
    "# loading up our datasets\n",
    "train_data_dir = 'data/train'  \n",
    "validation_data_dir = 'data/valid'  \n",
    "test_data_dir = 'data/test'\n",
    "   \n",
    "# number of epochs to train top model  \n",
    "epochs = 7 #this has been changed after multiple model run  \n",
    "# batch size used by flow_from_directory and predict_generator  \n",
    "batch_size = 50  "
   ]
  },
  {
   "cell_type": "code",
   "execution_count": 3,
   "metadata": {},
   "outputs": [],
   "source": [
    "#Loading vgc16 model\n",
    "vgg16 = applications.VGG16(include_top=False, weights='imagenet') "
   ]
  },
  {
   "cell_type": "code",
   "execution_count": 4,
   "metadata": {},
   "outputs": [],
   "source": [
    "datagen = ImageDataGenerator(rescale=1. / 255)  #needed to create the bottleneck .npy files"
   ]
  },
  {
   "cell_type": "markdown",
   "metadata": {},
   "source": [
    "# Creation of weights/features with VGG16"
   ]
  },
  {
   "cell_type": "code",
   "execution_count": 7,
   "metadata": {},
   "outputs": [
    {
     "name": "stdout",
     "output_type": "stream",
     "text": [
      "Found 9074 images belonging to 2 classes.\n",
      "Time:  0:19:57.677554\n"
     ]
    }
   ],
   "source": [
    "#__this can take an hour and half to run so only run it once. \n",
    "#once the npy files have been created, no need to run again. Convert this cell to a code cell to run.__\n",
    "\n",
    "start = datetime.datetime.now()\n",
    "   \n",
    "generator = datagen.flow_from_directory(  \n",
    "     train_data_dir,  \n",
    "     target_size=(img_width, img_height),  \n",
    "     batch_size=batch_size,  \n",
    "     class_mode=None,  \n",
    "     shuffle=False)  \n",
    "   \n",
    "nb_train_samples = len(generator.filenames)  \n",
    "num_classes = len(generator.class_indices)  \n",
    "   \n",
    "predict_size_train = int(math.ceil(nb_train_samples / batch_size))  \n",
    "   \n",
    "bottleneck_features_train = vgg16.predict(generator, predict_size_train)  \n",
    "   \n",
    "np.save('bottleneck_features_train.npy', bottleneck_features_train)\n",
    "end= datetime.datetime.now()\n",
    "elapsed= end-start\n",
    "print ('Time: ', elapsed)"
   ]
  },
  {
   "cell_type": "code",
   "execution_count": 8,
   "metadata": {},
   "outputs": [
    {
     "name": "stdout",
     "output_type": "stream",
     "text": [
      "Found 1961 images belonging to 2 classes.\n",
      "Time:  0:04:10.406198\n"
     ]
    }
   ],
   "source": [
    "#__this can take half an hour to run so only run it once. once the npy files have been created, no need to run again. Convert this cell to a code cell to run.__\n",
    "\n",
    "start = datetime.datetime.now()\n",
    "generator = datagen.flow_from_directory(  \n",
    "     validation_data_dir,  \n",
    "     target_size=(img_width, img_height),  \n",
    "     batch_size=batch_size,  \n",
    "     class_mode=None,  \n",
    "     shuffle=False)  \n",
    "   \n",
    "nb_validation_samples = len(generator.filenames)  \n",
    "   \n",
    "predict_size_validation = int(math.ceil(nb_validation_samples / batch_size))  \n",
    "   \n",
    "bottleneck_features_validation = vgg16.predict(  \n",
    "     generator, predict_size_validation)  \n",
    "   \n",
    "np.save('bottleneck_features_validation.npy', bottleneck_features_validation) \n",
    "end= datetime.datetime.now()\n",
    "elapsed= end-start\n",
    "print ('Time: ', elapsed)"
   ]
  },
  {
   "cell_type": "code",
   "execution_count": 9,
   "metadata": {},
   "outputs": [
    {
     "name": "stdout",
     "output_type": "stream",
     "text": [
      "Found 105 images belonging to 2 classes.\n",
      "Time:  0:00:14.262309\n"
     ]
    }
   ],
   "source": [
    "#__this can take half an hour to run so only run it once. once the npy files have been created, no need to run again. Convert this cell to a code cell to run.__\n",
    "\n",
    "start = datetime.datetime.now()\n",
    "generator = datagen.flow_from_directory(  \n",
    "     test_data_dir,  \n",
    "     target_size=(img_width, img_height),  \n",
    "     batch_size=batch_size,  \n",
    "     class_mode=None,  \n",
    "     shuffle=False)  \n",
    "   \n",
    "nb_validation_samples = len(generator.filenames)  \n",
    "   \n",
    "predict_size_validation = int(math.ceil(nb_validation_samples / batch_size))  \n",
    "   \n",
    "bottleneck_features_validation = vgg16.predict(  \n",
    "     generator, predict_size_validation)  \n",
    "   \n",
    "np.save('bottleneck_features_test.npy', bottleneck_features_validation) \n",
    "end= datetime.datetime.now()\n",
    "elapsed= end-start\n",
    "print ('Time: ', elapsed)"
   ]
  },
  {
   "cell_type": "markdown",
   "metadata": {},
   "source": [
    "# Loading training, validation and testing data"
   ]
  },
  {
   "cell_type": "code",
   "execution_count": 27,
   "metadata": {
    "scrolled": true
   },
   "outputs": [
    {
     "name": "stdout",
     "output_type": "stream",
     "text": [
      "Found 8737 images belonging to 2 classes.\n"
     ]
    }
   ],
   "source": [
    "#training data\n",
    "generator_top = datagen.flow_from_directory(  \n",
    "         train_data_dir,  \n",
    "         target_size=(img_width, img_height),  \n",
    "         batch_size=batch_size,  \n",
    "         class_mode='categorical',  \n",
    "         shuffle=True)  \n",
    "   \n",
    "nb_train_samples = len(generator_top.filenames)  \n",
    "num_classes = len(generator_top.class_indices)  \n",
    "   \n",
    "# load the bottleneck features saved earlier  \n",
    "train_data = np.load('bottleneck_features_train_densenet.npy')  \n",
    "   \n",
    "# get the class lebels for the training data, in the original order  \n",
    "train_labels = generator_top.classes  \n",
    "   \n",
    "# convert the training labels to categorical vectors  \n",
    "train_labels = to_categorical(train_labels, num_classes=num_classes) "
   ]
  },
  {
   "cell_type": "code",
   "execution_count": 28,
   "metadata": {},
   "outputs": [
    {
     "name": "stdout",
     "output_type": "stream",
     "text": [
      "[[0.000e+00 5.287e+03]\n",
      " [1.000e+00 3.450e+03]]\n"
     ]
    }
   ],
   "source": [
    "# training data distribution\n",
    "number_list=train_labels[:,0]\n",
    "(unique, counts) = np.unique(number_list, return_counts=True)\n",
    "frequencies = np.asarray((unique, counts)).T\n",
    "\n",
    "print(frequencies)"
   ]
  },
  {
   "cell_type": "code",
   "execution_count": 30,
   "metadata": {},
   "outputs": [
    {
     "name": "stdout",
     "output_type": "stream",
     "text": [
      "Found 1961 images belonging to 2 classes.\n"
     ]
    }
   ],
   "source": [
    "#validation data\n",
    "generator_top = datagen.flow_from_directory(  \n",
    "         validation_data_dir,  \n",
    "         target_size=(img_width, img_height),  \n",
    "         batch_size=batch_size,  \n",
    "         class_mode='categorical',  \n",
    "         shuffle=True)  \n",
    "   \n",
    "nb_validation_samples = len(generator_top.filenames)  \n",
    "   \n",
    "validation_data = np.load('bottleneck_features_validation_densenet.npy')  \n",
    "   \n",
    "\n",
    "validation_labels = generator_top.classes  \n",
    "validation_labels = to_categorical(validation_labels, num_classes=num_classes)  "
   ]
  },
  {
   "cell_type": "code",
   "execution_count": 31,
   "metadata": {},
   "outputs": [
    {
     "name": "stdout",
     "output_type": "stream",
     "text": [
      "Found 442 images belonging to 2 classes.\n"
     ]
    }
   ],
   "source": [
    "#test data\n",
    "generator_top = datagen.flow_from_directory(  \n",
    "         test_data_dir,  \n",
    "         target_size=(img_width, img_height),  \n",
    "         batch_size=batch_size,  \n",
    "         class_mode='categorical',  \n",
    "         shuffle=True)  \n",
    "   \n",
    "nb_test_samples = len(generator_top.filenames)  \n",
    "   \n",
    "test_data = np.load('bottleneck_features_test_densenet.npy')  \n",
    "   \n",
    "\n",
    "test_labels = generator_top.classes  \n",
    "test_labels = to_categorical(test_labels, num_classes=num_classes)  "
   ]
  },
  {
   "cell_type": "code",
   "execution_count": 33,
   "metadata": {},
   "outputs": [],
   "source": [
    "class_weight = {0: 5.2,\n",
    "                1: 3.5,}"
   ]
  },
  {
   "cell_type": "markdown",
   "metadata": {},
   "source": [
    "# Training of model"
   ]
  },
  {
   "cell_type": "code",
   "execution_count": 50,
   "metadata": {},
   "outputs": [
    {
     "name": "stdout",
     "output_type": "stream",
     "text": [
      "Epoch 1/10\n",
      "175/175 [==============================] - 68s 378ms/step - loss: 29.3830 - acc: 0.5368 - val_loss: 0.6894 - val_acc: 0.5732\n",
      "Epoch 2/10\n",
      "175/175 [==============================] - 70s 396ms/step - loss: 3.0986 - acc: 0.5678 - val_loss: 0.6551 - val_acc: 0.6711\n",
      "Epoch 3/10\n",
      "175/175 [==============================] - 68s 386ms/step - loss: 2.8778 - acc: 0.6383 - val_loss: 0.6387 - val_acc: 0.6762\n",
      "Epoch 4/10\n",
      "175/175 [==============================] - 73s 415ms/step - loss: 2.7152 - acc: 0.6615 - val_loss: 0.6153 - val_acc: 0.6476\n",
      "Epoch 5/10\n",
      "175/175 [==============================] - 73s 407ms/step - loss: 2.6464 - acc: 0.6658 - val_loss: 0.5886 - val_acc: 0.6777\n",
      "Epoch 6/10\n",
      "175/175 [==============================] - 67s 382ms/step - loss: 2.4986 - acc: 0.6890 - val_loss: 0.6618 - val_acc: 0.6094\n",
      "Epoch 7/10\n",
      "175/175 [==============================] - 71s 402ms/step - loss: 2.4040 - acc: 0.7030 - val_loss: 0.5809 - val_acc: 0.6798\n",
      "Epoch 8/10\n",
      "175/175 [==============================] - 66s 375ms/step - loss: 2.3265 - acc: 0.7117 - val_loss: 0.6531 - val_acc: 0.6089\n",
      "Epoch 9/10\n",
      "175/175 [==============================] - 74s 420ms/step - loss: 2.3481 - acc: 0.7219 - val_loss: 0.7296 - val_acc: 0.6685\n",
      "Epoch 10/10\n",
      "175/175 [==============================] - 66s 378ms/step - loss: 2.2323 - acc: 0.7372 - val_loss: 0.7432 - val_acc: 0.6792\n",
      "40/40 [==============================] - 1s 30ms/step - loss: 0.7432 - acc: 0.6792\n",
      "[INFO] accuracy: 67.92%\n",
      "[INFO] Loss: 0.7431663274765015\n",
      "Time:  0:11:39.015717\n"
     ]
    }
   ],
   "source": [
    "#This is the best model we found. For additional models, check out I_notebook.ipynb\n",
    "start = datetime.datetime.now()\n",
    "model = Sequential()  \n",
    "model.add(Flatten(input_shape=train_data.shape[1:])) \n",
    "\n",
    "model.add(Dense(500, activation=keras.layers.ELU(alpha=0.5)))  \n",
    "model.add(Dropout(0.5))  \n",
    "model.add(Dense(50, activation=keras.layers.ELU(alpha=0.3)))  \n",
    "model.add(Dropout(0.3)) \n",
    "\n",
    "model.add(Dense(num_classes, activation='sigmoid'))  \n",
    "\n",
    "model.compile(loss='binary_crossentropy',\n",
    "              optimizer=optimizers.RMSprop(lr=1e-3),\n",
    "              metrics=['acc'])  \n",
    "\n",
    "history = model.fit(train_data, train_labels,  \n",
    "      epochs=10,\n",
    "      batch_size=batch_size,  \n",
    "      validation_data=(validation_data, validation_labels),class_weight=class_weight)\n",
    "\n",
    "model.save_weights(top_model_weights_path)  \n",
    "\n",
    "(eval_loss, eval_accuracy) = model.evaluate(  \n",
    " validation_data, validation_labels, batch_size=batch_size, verbose=1)\n",
    "\n",
    "print(\"[INFO] accuracy: {:.2f}%\".format(eval_accuracy * 100))  \n",
    "print(\"[INFO] Loss: {}\".format(eval_loss))  \n",
    "end= datetime.datetime.now()\n",
    "elapsed= end-start\n",
    "print ('Time: ', elapsed)"
   ]
  },
  {
   "cell_type": "code",
   "execution_count": 59,
   "metadata": {},
   "outputs": [
    {
     "name": "stdout",
     "output_type": "stream",
     "text": [
      "Epoch 1/10\n",
      "175/175 [==============================] - 16s 78ms/step - loss: 10.1680 - acc: 0.5480 - val_loss: 0.6604 - val_acc: 0.5880\n",
      "Epoch 2/10\n",
      "175/175 [==============================] - 10s 57ms/step - loss: 2.9632 - acc: 0.6186 - val_loss: 0.6458 - val_acc: 0.5492\n",
      "Epoch 3/10\n",
      "175/175 [==============================] - 10s 56ms/step - loss: 2.8130 - acc: 0.6357 - val_loss: 0.6196 - val_acc: 0.6104\n",
      "Epoch 4/10\n",
      "175/175 [==============================] - 10s 56ms/step - loss: 2.7046 - acc: 0.6455 - val_loss: 0.6055 - val_acc: 0.6563\n",
      "Epoch 5/10\n",
      "175/175 [==============================] - 10s 56ms/step - loss: 2.4830 - acc: 0.6687 - val_loss: 0.5866 - val_acc: 0.6879\n",
      "Epoch 6/10\n",
      "175/175 [==============================] - 9s 54ms/step - loss: 2.4392 - acc: 0.7023 - val_loss: 0.6097 - val_acc: 0.6548\n",
      "Epoch 7/10\n",
      "175/175 [==============================] - 10s 55ms/step - loss: 2.2892 - acc: 0.7078 - val_loss: 0.6368 - val_acc: 0.6843\n",
      "Epoch 8/10\n",
      "175/175 [==============================] - 13s 73ms/step - loss: 2.1472 - acc: 0.7352 - val_loss: 0.6365 - val_acc: 0.6849\n",
      "Epoch 9/10\n",
      "175/175 [==============================] - 11s 63ms/step - loss: 2.1245 - acc: 0.7365 - val_loss: 0.7418 - val_acc: 0.6889\n",
      "Epoch 10/10\n",
      "175/175 [==============================] - 10s 57ms/step - loss: 2.0389 - acc: 0.7569 - val_loss: 0.7485 - val_acc: 0.6879\n",
      "40/40 [==============================] - 0s 10ms/step - loss: 0.7485 - acc: 0.6879\n",
      "[INFO] accuracy: 68.79%\n",
      "[INFO] Loss: 0.748486340045929\n",
      "Time:  0:01:49.461489\n"
     ]
    }
   ],
   "source": [
    "#This is the best model we found. For additional models, check out I_notebook.ipynb\n",
    "start = datetime.datetime.now()\n",
    "model = Sequential()  \n",
    "model.add(Flatten(input_shape=train_data.shape[1:])) \n",
    "\n",
    "model.add(Dense(100, activation=keras.layers.PReLU()))  \n",
    "model.add(Dropout(0.5))  \n",
    "model.add(Dense(50, activation=keras.layers.ELU(alpha=0.3)))  \n",
    "model.add(Dropout(0.3)) \n",
    "\n",
    "model.add(Dense(num_classes, activation='sigmoid'))  \n",
    "\n",
    "model.compile(loss='binary_crossentropy',\n",
    "              optimizer=optimizers.RMSprop(lr=1e-3),\n",
    "              metrics=['acc'])  \n",
    "\n",
    "history = model.fit(train_data, train_labels,  \n",
    "      epochs=10,\n",
    "      batch_size=batch_size,  \n",
    "      validation_data=(validation_data, validation_labels),class_weight=class_weight)\n",
    "\n",
    "model.save_weights(top_model_weights_path)  \n",
    "\n",
    "(eval_loss, eval_accuracy) = model.evaluate(  \n",
    " validation_data, validation_labels, batch_size=batch_size, verbose=1)\n",
    "\n",
    "print(\"[INFO] accuracy: {:.2f}%\".format(eval_accuracy * 100))  \n",
    "print(\"[INFO] Loss: {}\".format(eval_loss))  \n",
    "end= datetime.datetime.now()\n",
    "elapsed= end-start\n",
    "print ('Time: ', elapsed)"
   ]
  },
  {
   "cell_type": "markdown",
   "metadata": {},
   "source": [
    "## Model Evaluation on Testing Set"
   ]
  },
  {
   "cell_type": "code",
   "execution_count": 60,
   "metadata": {},
   "outputs": [
    {
     "name": "stdout",
     "output_type": "stream",
     "text": [
      "14/14 [==============================] - 1s 32ms/step - loss: 0.6233 - acc: 0.7014\n"
     ]
    },
    {
     "data": {
      "text/plain": [
       "[0.623297393321991, 0.7013574838638306]"
      ]
     },
     "execution_count": 60,
     "metadata": {},
     "output_type": "execute_result"
    }
   ],
   "source": [
    "model.evaluate(test_data, test_labels)"
   ]
  },
  {
   "cell_type": "code",
   "execution_count": 14,
   "metadata": {},
   "outputs": [
    {
     "name": "stdout",
     "output_type": "stream",
     "text": [
      "Model: \"sequential\"\n",
      "_________________________________________________________________\n",
      "Layer (type)                 Output Shape              Param #   \n",
      "=================================================================\n",
      "flatten (Flatten)            (None, 25088)             0         \n",
      "_________________________________________________________________\n",
      "dense (Dense)                (None, 100)               2508900   \n",
      "_________________________________________________________________\n",
      "dropout (Dropout)            (None, 100)               0         \n",
      "_________________________________________________________________\n",
      "dense_1 (Dense)              (None, 50)                5050      \n",
      "_________________________________________________________________\n",
      "dropout_1 (Dropout)          (None, 50)                0         \n",
      "_________________________________________________________________\n",
      "dense_2 (Dense)              (None, 2)                 102       \n",
      "=================================================================\n",
      "Total params: 2,514,052\n",
      "Trainable params: 2,514,052\n",
      "Non-trainable params: 0\n",
      "_________________________________________________________________\n"
     ]
    }
   ],
   "source": [
    "#Model summary\n",
    "model.summary()\n",
    "\n"
   ]
  },
  {
   "cell_type": "code",
   "execution_count": 40,
   "metadata": {},
   "outputs": [
    {
     "name": "stdout",
     "output_type": "stream",
     "text": [
      "test data [[[[0.00000000e+00 1.50589854e-03 5.79393090e-05 ... 0.00000000e+00\n",
      "    2.49667570e-01 2.34320593e+00]\n",
      "   [2.57812353e-05 2.18590186e-03 4.54339373e-04 ... 0.00000000e+00\n",
      "    3.53977352e-01 4.32961988e+00]\n",
      "   [1.59029372e-03 1.22236903e-03 1.00117351e-04 ... 0.00000000e+00\n",
      "    5.38808584e-01 5.78235912e+00]\n",
      "   ...\n",
      "   [7.33531604e-04 2.19425396e-03 4.57426038e-04 ... 4.58167732e-01\n",
      "    1.68224961e-01 3.37712145e+00]\n",
      "   [1.20014988e-03 2.41149799e-03 4.53974790e-04 ... 3.53497171e+00\n",
      "    0.00000000e+00 2.51752925e+00]\n",
      "   [0.00000000e+00 1.01563707e-03 2.99086474e-04 ... 2.84946728e+00\n",
      "    0.00000000e+00 1.87559307e+00]]\n",
      "\n",
      "  [[0.00000000e+00 1.80698861e-03 3.87668959e-04 ... 0.00000000e+00\n",
      "    4.68695492e-01 4.13498878e+00]\n",
      "   [6.44498970e-04 2.51092226e-03 5.40383218e-04 ... 0.00000000e+00\n",
      "    7.54457593e-01 6.68486738e+00]\n",
      "   [1.08332548e-03 1.93813606e-03 9.24713167e-05 ... 0.00000000e+00\n",
      "    6.06112480e-01 7.84512520e+00]\n",
      "   ...\n",
      "   [3.66508961e-04 1.58408511e-04 5.46927389e-04 ... 8.70456457e-01\n",
      "    1.04303390e-01 3.57335806e+00]\n",
      "   [1.61599903e-03 1.89099042e-03 5.61587105e-04 ... 3.78659344e+00\n",
      "    0.00000000e+00 1.34621561e+00]\n",
      "   [0.00000000e+00 1.82328140e-03 2.94083700e-04 ... 2.67574167e+00\n",
      "    0.00000000e+00 8.74951780e-01]]\n",
      "\n",
      "  [[0.00000000e+00 1.86505658e-03 4.17146803e-04 ... 0.00000000e+00\n",
      "    8.62515569e-02 5.73087597e+00]\n",
      "   [8.30824429e-04 1.41264172e-03 1.01898091e-04 ... 0.00000000e+00\n",
      "    5.10090888e-01 9.39771461e+00]\n",
      "   [8.16961052e-04 1.30832009e-03 2.64610280e-05 ... 0.00000000e+00\n",
      "    4.19007510e-01 1.05373163e+01]\n",
      "   ...\n",
      "   [0.00000000e+00 0.00000000e+00 4.62413154e-04 ... 8.12352359e-01\n",
      "    1.06532300e+00 6.67957973e+00]\n",
      "   [0.00000000e+00 0.00000000e+00 3.28575901e-04 ... 4.56924868e+00\n",
      "    3.95251960e-01 4.25902033e+00]\n",
      "   [4.47686209e-04 2.00476078e-03 4.74695225e-05 ... 3.32263017e+00\n",
      "    3.65914851e-01 3.93407845e+00]]\n",
      "\n",
      "  ...\n",
      "\n",
      "  [[0.00000000e+00 1.46284979e-03 0.00000000e+00 ... 4.95734304e-01\n",
      "    0.00000000e+00 4.21914434e+00]\n",
      "   [2.78055575e-03 1.92876579e-03 0.00000000e+00 ... 4.61286008e-01\n",
      "    0.00000000e+00 8.09783554e+00]\n",
      "   [3.78878787e-03 9.92171117e-04 0.00000000e+00 ... 7.75716841e-01\n",
      "    2.42219567e-02 1.11683702e+01]\n",
      "   ...\n",
      "   [1.52903231e-04 1.61981513e-03 0.00000000e+00 ... 6.01644814e-01\n",
      "    5.80932093e+00 1.08866539e+01]\n",
      "   [0.00000000e+00 3.05421092e-03 0.00000000e+00 ... 1.22208500e+00\n",
      "    6.40408134e+00 7.93700743e+00]\n",
      "   [3.35932680e-04 1.85789773e-03 0.00000000e+00 ... 4.78019834e-01\n",
      "    5.43098354e+00 6.06059742e+00]]\n",
      "\n",
      "  [[0.00000000e+00 6.39594393e-04 0.00000000e+00 ... 1.40116763e+00\n",
      "    0.00000000e+00 1.75783741e+00]\n",
      "   [2.17215565e-05 1.50386035e-03 0.00000000e+00 ... 1.80142403e+00\n",
      "    0.00000000e+00 4.81511021e+00]\n",
      "   [2.61215074e-03 5.14799496e-04 0.00000000e+00 ... 2.80527234e+00\n",
      "    0.00000000e+00 8.00411034e+00]\n",
      "   ...\n",
      "   [6.36643206e-04 1.04075196e-04 0.00000000e+00 ... 0.00000000e+00\n",
      "    5.15719509e+00 8.43387413e+00]\n",
      "   [0.00000000e+00 1.15646049e-03 0.00000000e+00 ... 0.00000000e+00\n",
      "    6.77187967e+00 5.92769051e+00]\n",
      "   [0.00000000e+00 7.52940541e-04 0.00000000e+00 ... 0.00000000e+00\n",
      "    5.68919945e+00 3.89870381e+00]]\n",
      "\n",
      "  [[0.00000000e+00 2.90998607e-03 0.00000000e+00 ... 1.97345924e+00\n",
      "    0.00000000e+00 2.91677117e-02]\n",
      "   [0.00000000e+00 4.84255084e-04 2.29780606e-04 ... 2.38406801e+00\n",
      "    0.00000000e+00 1.88153160e+00]\n",
      "   [3.64282925e-04 0.00000000e+00 0.00000000e+00 ... 3.39585972e+00\n",
      "    0.00000000e+00 2.55484343e+00]\n",
      "   ...\n",
      "   [1.35376980e-03 0.00000000e+00 0.00000000e+00 ... 1.26572281e-01\n",
      "    1.74414372e+00 3.05618238e+00]\n",
      "   [1.32492452e-03 0.00000000e+00 1.70284402e-04 ... 0.00000000e+00\n",
      "    4.22239447e+00 1.73874533e+00]\n",
      "   [0.00000000e+00 9.11023584e-04 3.44171043e-04 ... 0.00000000e+00\n",
      "    2.87951112e+00 9.58055437e-01]]]\n",
      "\n",
      "\n",
      " [[[0.00000000e+00 1.08559593e-03 1.69249397e-04 ... 0.00000000e+00\n",
      "    0.00000000e+00 1.92444611e+00]\n",
      "   [2.06998503e-03 9.63980274e-04 0.00000000e+00 ... 0.00000000e+00\n",
      "    0.00000000e+00 2.10507154e+00]\n",
      "   [5.77267841e-04 6.04632660e-04 2.94265075e-04 ... 0.00000000e+00\n",
      "    0.00000000e+00 1.84455168e+00]\n",
      "   ...\n",
      "   [0.00000000e+00 1.27529516e-03 3.69608140e-04 ... 0.00000000e+00\n",
      "    0.00000000e+00 2.45770931e-01]\n",
      "   [5.53185178e-04 1.64850615e-03 3.73187766e-04 ... 0.00000000e+00\n",
      "    0.00000000e+00 1.74873948e-01]\n",
      "   [0.00000000e+00 3.09564406e-03 0.00000000e+00 ... 0.00000000e+00\n",
      "    0.00000000e+00 0.00000000e+00]]\n",
      "\n",
      "  [[5.88175468e-03 0.00000000e+00 0.00000000e+00 ... 0.00000000e+00\n",
      "    0.00000000e+00 2.71511245e+00]\n",
      "   [9.37760808e-03 0.00000000e+00 0.00000000e+00 ... 0.00000000e+00\n",
      "    5.54774106e-01 3.61269307e+00]\n",
      "   [1.75228750e-03 1.33063737e-03 5.94729558e-04 ... 0.00000000e+00\n",
      "    1.39769733e-01 3.38823795e+00]\n",
      "   ...\n",
      "   [3.43662803e-04 1.50724011e-03 1.11865869e-04 ... 0.00000000e+00\n",
      "    0.00000000e+00 1.55625606e+00]\n",
      "   [1.36222818e-03 1.14658428e-03 4.96690685e-04 ... 0.00000000e+00\n",
      "    0.00000000e+00 1.54076278e+00]\n",
      "   [0.00000000e+00 6.52977033e-05 3.81538674e-04 ... 0.00000000e+00\n",
      "    0.00000000e+00 9.12957013e-01]]\n",
      "\n",
      "  [[2.98519852e-03 1.30509515e-03 3.79919307e-04 ... 0.00000000e+00\n",
      "    0.00000000e+00 3.31427860e+00]\n",
      "   [2.73664296e-03 7.77341542e-04 3.29338567e-04 ... 0.00000000e+00\n",
      "    0.00000000e+00 4.88349962e+00]\n",
      "   [0.00000000e+00 2.29786849e-03 2.82014051e-04 ... 0.00000000e+00\n",
      "    0.00000000e+00 5.53835440e+00]\n",
      "   ...\n",
      "   [0.00000000e+00 2.70166853e-03 2.00068534e-04 ... 0.00000000e+00\n",
      "    0.00000000e+00 2.79522991e+00]\n",
      "   [0.00000000e+00 2.56565027e-03 2.80634384e-04 ... 0.00000000e+00\n",
      "    0.00000000e+00 1.52028751e+00]\n",
      "   [0.00000000e+00 1.63201243e-03 3.07140435e-04 ... 0.00000000e+00\n",
      "    0.00000000e+00 1.06912637e+00]]\n",
      "\n",
      "  ...\n",
      "\n",
      "  [[9.32262483e-05 1.36026973e-03 0.00000000e+00 ... 0.00000000e+00\n",
      "    7.99597144e-01 1.30912805e+00]\n",
      "   [0.00000000e+00 1.79269165e-03 0.00000000e+00 ... 0.00000000e+00\n",
      "    0.00000000e+00 3.80104136e+00]\n",
      "   [0.00000000e+00 3.52896820e-03 0.00000000e+00 ... 0.00000000e+00\n",
      "    0.00000000e+00 4.46719122e+00]\n",
      "   ...\n",
      "   [5.59743028e-04 2.69551273e-03 0.00000000e+00 ... 0.00000000e+00\n",
      "    3.51905555e-01 5.07012272e+00]\n",
      "   [3.50193121e-04 6.25566463e-04 0.00000000e+00 ... 0.00000000e+00\n",
      "    1.86515942e-01 4.17674208e+00]\n",
      "   [5.99621999e-05 3.37032136e-04 4.07431042e-04 ... 0.00000000e+00\n",
      "    6.80109501e-01 1.59665513e+00]]\n",
      "\n",
      "  [[0.00000000e+00 1.47155393e-03 0.00000000e+00 ... 0.00000000e+00\n",
      "    6.65735006e-01 6.22404695e-01]\n",
      "   [0.00000000e+00 2.01029354e-03 0.00000000e+00 ... 0.00000000e+00\n",
      "    2.44663820e-01 2.59254217e+00]\n",
      "   [4.23367135e-04 2.21942132e-03 0.00000000e+00 ... 0.00000000e+00\n",
      "    5.89218020e-01 3.38014627e+00]\n",
      "   ...\n",
      "   [1.00420881e-03 1.66975986e-03 0.00000000e+00 ... 0.00000000e+00\n",
      "    1.28985465e+00 4.37080669e+00]\n",
      "   [0.00000000e+00 4.29352862e-04 0.00000000e+00 ... 0.00000000e+00\n",
      "    8.22419524e-01 3.42804527e+00]\n",
      "   [0.00000000e+00 1.38883060e-03 2.96520680e-04 ... 0.00000000e+00\n",
      "    1.03739476e+00 9.03851748e-01]]\n",
      "\n",
      "  [[8.04460491e-04 1.02126994e-03 1.93225220e-04 ... 0.00000000e+00\n",
      "    4.61897165e-01 5.69030464e-01]\n",
      "   [0.00000000e+00 9.53417912e-04 4.74327680e-04 ... 0.00000000e+00\n",
      "    8.98789644e-01 8.59684825e-01]\n",
      "   [0.00000000e+00 9.61810350e-04 4.37628769e-04 ... 0.00000000e+00\n",
      "    1.03371060e+00 1.28305364e+00]\n",
      "   ...\n",
      "   [1.56459340e-03 4.22456011e-04 1.49793312e-04 ... 0.00000000e+00\n",
      "    1.70817769e+00 1.87618291e+00]\n",
      "   [4.59666771e-05 0.00000000e+00 0.00000000e+00 ... 0.00000000e+00\n",
      "    1.22518671e+00 1.79589534e+00]\n",
      "   [8.16583517e-04 1.05713028e-03 0.00000000e+00 ... 0.00000000e+00\n",
      "    6.47515059e-01 5.83910406e-01]]]\n",
      "\n",
      "\n",
      " [[[3.78104299e-03 2.08872301e-03 1.82305448e-04 ... 0.00000000e+00\n",
      "    0.00000000e+00 0.00000000e+00]\n",
      "   [2.21533026e-03 1.04783406e-03 2.98032479e-04 ... 0.00000000e+00\n",
      "    0.00000000e+00 0.00000000e+00]\n",
      "   [2.22734106e-03 1.64196570e-03 3.53610201e-04 ... 2.02169150e-01\n",
      "    0.00000000e+00 0.00000000e+00]\n",
      "   ...\n",
      "   [0.00000000e+00 0.00000000e+00 0.00000000e+00 ... 3.21687311e-01\n",
      "    0.00000000e+00 0.00000000e+00]\n",
      "   [0.00000000e+00 0.00000000e+00 0.00000000e+00 ... 0.00000000e+00\n",
      "    0.00000000e+00 1.31812978e+00]\n",
      "   [1.11678476e-03 7.75168475e-04 6.24099775e-05 ... 0.00000000e+00\n",
      "    0.00000000e+00 6.73838019e-01]]\n",
      "\n",
      "  [[1.12920359e-03 1.59242121e-03 5.60070272e-04 ... 6.77002013e-01\n",
      "    0.00000000e+00 0.00000000e+00]\n",
      "   [0.00000000e+00 0.00000000e+00 3.54283198e-04 ... 8.69524121e-01\n",
      "    0.00000000e+00 0.00000000e+00]\n",
      "   [6.71320420e-04 9.73588321e-04 2.71131197e-04 ... 1.46073484e+00\n",
      "    0.00000000e+00 0.00000000e+00]\n",
      "   ...\n",
      "   [2.35852762e-03 0.00000000e+00 4.52933564e-05 ... 1.61605334e+00\n",
      "    0.00000000e+00 0.00000000e+00]\n",
      "   [3.40180099e-03 0.00000000e+00 0.00000000e+00 ... 6.68389559e-01\n",
      "    0.00000000e+00 1.25116158e+00]\n",
      "   [1.39029755e-03 2.43154308e-03 3.05760739e-04 ... 1.01170421e+00\n",
      "    0.00000000e+00 6.79829955e-01]]\n",
      "\n",
      "  [[1.06094114e-03 0.00000000e+00 2.12371073e-04 ... 1.29406452e+00\n",
      "    8.21102381e-01 8.82919788e-01]\n",
      "   [7.05728016e-05 1.23320124e-03 2.75965052e-04 ... 1.21653831e+00\n",
      "    2.59618342e-01 9.50885713e-01]\n",
      "   [3.83500272e-04 2.22945889e-03 1.62770331e-04 ... 3.49958277e+00\n",
      "    4.38725919e-01 1.17916322e+00]\n",
      "   ...\n",
      "   [0.00000000e+00 1.06142729e-03 1.56594702e-04 ... 4.30421495e+00\n",
      "    0.00000000e+00 0.00000000e+00]\n",
      "   [0.00000000e+00 6.34937896e-04 5.10182290e-04 ... 1.68841887e+00\n",
      "    2.83154249e-01 0.00000000e+00]\n",
      "   [8.42658104e-04 5.71108074e-04 4.98081208e-05 ... 8.87047052e-01\n",
      "    3.03861052e-01 0.00000000e+00]]\n",
      "\n",
      "  ...\n",
      "\n",
      "  [[0.00000000e+00 0.00000000e+00 9.17453945e-05 ... 8.35559547e-01\n",
      "    0.00000000e+00 0.00000000e+00]\n",
      "   [9.35426098e-04 5.70037577e-04 0.00000000e+00 ... 2.29010701e+00\n",
      "    0.00000000e+00 1.35869336e+00]\n",
      "   [3.09248455e-04 3.57003859e-03 1.39963377e-04 ... 4.79590034e+00\n",
      "    2.14765334e+00 1.64993250e+00]\n",
      "   ...\n",
      "   [0.00000000e+00 3.11811757e-03 0.00000000e+00 ... 5.14544916e+00\n",
      "    4.68338919e+00 2.39685535e+00]\n",
      "   [2.03266813e-04 2.47284351e-03 0.00000000e+00 ... 2.55121589e+00\n",
      "    3.68282986e+00 2.40611172e+00]\n",
      "   [0.00000000e+00 0.00000000e+00 1.34686954e-04 ... 6.02998257e-01\n",
      "    1.75748718e+00 1.09418488e+00]]\n",
      "\n",
      "  [[6.50947215e-04 0.00000000e+00 3.44456610e-04 ... 0.00000000e+00\n",
      "    0.00000000e+00 0.00000000e+00]\n",
      "   [6.05960668e-04 0.00000000e+00 3.45611043e-04 ... 1.63104367e+00\n",
      "    0.00000000e+00 2.52929658e-01]\n",
      "   [0.00000000e+00 0.00000000e+00 7.68987229e-05 ... 1.83335614e+00\n",
      "    1.09872723e+00 2.62283981e-01]\n",
      "   ...\n",
      "   [0.00000000e+00 3.32021707e-04 0.00000000e+00 ... 3.55403137e+00\n",
      "    4.24497318e+00 1.22149396e+00]\n",
      "   [8.97617254e-04 3.80541955e-04 0.00000000e+00 ... 3.35690594e+00\n",
      "    3.67733788e+00 2.61928058e+00]\n",
      "   [0.00000000e+00 4.79635608e-04 1.80796385e-04 ... 1.44786072e+00\n",
      "    1.08167017e+00 2.12553310e+00]]\n",
      "\n",
      "  [[5.29483799e-03 1.32954842e-03 3.59545957e-04 ... 6.64165467e-02\n",
      "    0.00000000e+00 0.00000000e+00]\n",
      "   [2.49022292e-03 0.00000000e+00 5.03879157e-04 ... 6.76476181e-01\n",
      "    0.00000000e+00 0.00000000e+00]\n",
      "   [2.24634353e-03 0.00000000e+00 1.98511872e-04 ... 9.42672193e-01\n",
      "    5.59880793e-01 0.00000000e+00]\n",
      "   ...\n",
      "   [3.49508272e-03 0.00000000e+00 1.23174759e-04 ... 4.32860661e+00\n",
      "    1.90269256e+00 0.00000000e+00]\n",
      "   [2.80900253e-03 8.84087523e-04 1.18211450e-04 ... 4.29809952e+00\n",
      "    1.52019179e+00 1.66897893e+00]\n",
      "   [1.61383359e-03 1.02636637e-03 0.00000000e+00 ... 2.46318674e+00\n",
      "    0.00000000e+00 1.01738131e+00]]]\n",
      "\n",
      "\n",
      " ...\n",
      "\n",
      "\n",
      " [[[0.00000000e+00 2.73186062e-03 0.00000000e+00 ... 0.00000000e+00\n",
      "    1.55588180e-01 0.00000000e+00]\n",
      "   [6.25298242e-04 5.07407647e-04 7.97004206e-04 ... 0.00000000e+00\n",
      "    3.71601433e-01 0.00000000e+00]\n",
      "   [1.35179376e-03 7.66426791e-04 6.66723237e-04 ... 0.00000000e+00\n",
      "    8.70186508e-01 0.00000000e+00]\n",
      "   ...\n",
      "   [2.67682155e-03 5.32861915e-04 4.29439155e-04 ... 1.98655024e-01\n",
      "    2.05259487e-01 0.00000000e+00]\n",
      "   [2.39367131e-03 1.83348707e-03 5.19400288e-04 ... 0.00000000e+00\n",
      "    0.00000000e+00 4.70048904e-01]\n",
      "   [3.04909452e-04 2.39451043e-03 0.00000000e+00 ... 0.00000000e+00\n",
      "    0.00000000e+00 0.00000000e+00]]\n",
      "\n",
      "  [[1.44717621e-03 2.52254633e-03 1.23249265e-04 ... 0.00000000e+00\n",
      "    1.17308259e-01 1.71986878e-01]\n",
      "   [2.68874341e-04 1.12628425e-03 1.69395367e-04 ... 0.00000000e+00\n",
      "    6.80469751e-01 7.45543957e-01]\n",
      "   [0.00000000e+00 1.61442254e-03 1.66060767e-04 ... 0.00000000e+00\n",
      "    9.18243766e-01 3.45358551e-01]\n",
      "   ...\n",
      "   [1.10058463e-03 1.94005226e-03 2.33775907e-04 ... 6.37545705e-01\n",
      "    4.06763434e-01 0.00000000e+00]\n",
      "   [2.09130952e-03 1.68277859e-03 1.97699657e-04 ... 2.77518064e-01\n",
      "    4.18957889e-01 4.23890591e-01]\n",
      "   [2.35284679e-03 1.84912281e-03 1.18449898e-05 ... 0.00000000e+00\n",
      "    0.00000000e+00 6.75761104e-02]]\n",
      "\n",
      "  [[3.34696088e-04 2.58621993e-03 4.10372086e-05 ... 0.00000000e+00\n",
      "    7.20699370e-01 0.00000000e+00]\n",
      "   [0.00000000e+00 0.00000000e+00 2.01831586e-04 ... 4.92826849e-01\n",
      "    1.04728234e+00 5.37420154e-01]\n",
      "   [2.61091790e-03 2.55862181e-03 0.00000000e+00 ... 5.17074227e-01\n",
      "    1.01185155e+00 1.80772752e-01]\n",
      "   ...\n",
      "   [2.52098020e-04 1.01241330e-03 2.17775087e-04 ... 4.64474797e-01\n",
      "    6.39098585e-01 0.00000000e+00]\n",
      "   [1.63067458e-03 1.89080741e-03 1.55854446e-04 ... 4.65808123e-01\n",
      "    1.02959788e+00 3.32837373e-01]\n",
      "   [1.74857839e-03 2.52944604e-03 4.79354276e-05 ... 0.00000000e+00\n",
      "    1.52229875e-01 2.68908322e-01]]\n",
      "\n",
      "  ...\n",
      "\n",
      "  [[2.42117079e-04 1.09824096e-03 2.16755361e-04 ... 1.54521167e-01\n",
      "    5.85859895e-01 4.48699236e-01]\n",
      "   [0.00000000e+00 0.00000000e+00 0.00000000e+00 ... 7.60841370e-01\n",
      "    6.12876952e-01 4.40098333e+00]\n",
      "   [2.43565184e-03 2.41854723e-04 0.00000000e+00 ... 1.26704097e+00\n",
      "    5.77282131e-01 5.33085299e+00]\n",
      "   ...\n",
      "   [1.70355474e-04 2.01623305e-03 0.00000000e+00 ... 6.33127153e-01\n",
      "    0.00000000e+00 3.17288399e+00]\n",
      "   [0.00000000e+00 1.12596853e-03 1.06509251e-04 ... 0.00000000e+00\n",
      "    0.00000000e+00 1.50262868e+00]\n",
      "   [1.16506452e-03 1.10497861e-03 1.05505213e-04 ... 0.00000000e+00\n",
      "    0.00000000e+00 6.28659964e-01]]\n",
      "\n",
      "  [[0.00000000e+00 1.44052482e-03 0.00000000e+00 ... 1.45617366e-01\n",
      "    9.64306355e-01 5.35633862e-01]\n",
      "   [0.00000000e+00 1.31480722e-03 0.00000000e+00 ... 3.62834990e-01\n",
      "    1.00585997e+00 4.43045330e+00]\n",
      "   [3.19150323e-03 1.30909786e-04 0.00000000e+00 ... 7.03104615e-01\n",
      "    2.69804597e-01 5.66283989e+00]\n",
      "   ...\n",
      "   [1.21148245e-03 1.44609786e-03 0.00000000e+00 ... 0.00000000e+00\n",
      "    0.00000000e+00 3.68063331e+00]\n",
      "   [7.23658071e-04 0.00000000e+00 0.00000000e+00 ... 0.00000000e+00\n",
      "    0.00000000e+00 1.25036645e+00]\n",
      "   [0.00000000e+00 0.00000000e+00 0.00000000e+00 ... 0.00000000e+00\n",
      "    0.00000000e+00 1.72033936e-01]]\n",
      "\n",
      "  [[1.43305078e-05 2.59286328e-03 0.00000000e+00 ... 0.00000000e+00\n",
      "    3.55537385e-01 4.26359713e-01]\n",
      "   [1.92176132e-03 1.07949786e-03 9.67654123e-05 ... 0.00000000e+00\n",
      "    6.95424259e-01 2.38429594e+00]\n",
      "   [9.38433048e-04 0.00000000e+00 0.00000000e+00 ... 0.00000000e+00\n",
      "    7.28133142e-01 3.08996606e+00]\n",
      "   ...\n",
      "   [2.80913129e-03 0.00000000e+00 0.00000000e+00 ... 0.00000000e+00\n",
      "    2.87102163e-01 2.50606585e+00]\n",
      "   [2.55136541e-03 0.00000000e+00 0.00000000e+00 ... 0.00000000e+00\n",
      "    0.00000000e+00 1.34099150e+00]\n",
      "   [1.11526367e-03 0.00000000e+00 0.00000000e+00 ... 0.00000000e+00\n",
      "    0.00000000e+00 2.69245684e-01]]]\n",
      "\n",
      "\n",
      " [[[1.05922751e-03 2.93792505e-03 0.00000000e+00 ... 0.00000000e+00\n",
      "    0.00000000e+00 0.00000000e+00]\n",
      "   [1.26388250e-03 2.72712158e-03 2.61422567e-04 ... 0.00000000e+00\n",
      "    0.00000000e+00 0.00000000e+00]\n",
      "   [1.02958956e-03 1.43189845e-03 4.31426044e-04 ... 1.59629703e+00\n",
      "    0.00000000e+00 0.00000000e+00]\n",
      "   ...\n",
      "   [7.63091899e-04 1.50346197e-03 2.51026522e-05 ... 1.75047803e+00\n",
      "    0.00000000e+00 0.00000000e+00]\n",
      "   [1.49822724e-03 5.11950930e-06 2.34751889e-04 ... 0.00000000e+00\n",
      "    1.72444284e-01 0.00000000e+00]\n",
      "   [0.00000000e+00 0.00000000e+00 3.09665222e-04 ... 0.00000000e+00\n",
      "    0.00000000e+00 0.00000000e+00]]\n",
      "\n",
      "  [[2.66187428e-03 1.82387931e-03 2.51449965e-04 ... 2.87577033e-01\n",
      "    6.86230361e-02 0.00000000e+00]\n",
      "   [2.24511357e-04 1.63797615e-03 1.53336689e-04 ... 0.00000000e+00\n",
      "    5.57388544e-01 0.00000000e+00]\n",
      "   [2.13040435e-03 2.10565003e-03 0.00000000e+00 ... 2.21152186e+00\n",
      "    3.81278992e-01 4.98785555e-01]\n",
      "   ...\n",
      "   [1.28174748e-03 1.21108990e-03 2.06595039e-04 ... 3.48572469e+00\n",
      "    1.86257124e-01 1.29982328e+00]\n",
      "   [0.00000000e+00 0.00000000e+00 0.00000000e+00 ... 1.96317959e+00\n",
      "    2.12167335e+00 7.12828040e-01]\n",
      "   [0.00000000e+00 0.00000000e+00 1.63195640e-04 ... 0.00000000e+00\n",
      "    5.71291685e-01 0.00000000e+00]]\n",
      "\n",
      "  [[0.00000000e+00 1.01174600e-03 1.69240069e-04 ... 1.61862582e-01\n",
      "    1.14835775e+00 3.06137204e-02]\n",
      "   [2.29060790e-03 1.00364070e-03 1.33858164e-04 ... 1.56932712e-01\n",
      "    1.73061740e+00 0.00000000e+00]\n",
      "   [1.63963914e-03 1.06180948e-03 2.39912028e-04 ... 3.00255680e+00\n",
      "    1.11301732e+00 2.52014303e+00]\n",
      "   ...\n",
      "   [4.44517378e-03 1.28097076e-03 0.00000000e+00 ... 5.03605080e+00\n",
      "    9.65569139e-01 5.03448582e+00]\n",
      "   [3.66685796e-04 0.00000000e+00 0.00000000e+00 ... 3.77529764e+00\n",
      "    3.13285208e+00 2.94202590e+00]\n",
      "   [1.18825841e-03 0.00000000e+00 0.00000000e+00 ... 0.00000000e+00\n",
      "    1.06345928e+00 0.00000000e+00]]\n",
      "\n",
      "  ...\n",
      "\n",
      "  [[2.26570340e-03 6.66844891e-04 6.35825389e-04 ... 4.61907864e-01\n",
      "    2.01182938e+00 1.32697260e+00]\n",
      "   [4.94548352e-03 0.00000000e+00 0.00000000e+00 ... 9.02604818e-01\n",
      "    3.18977761e+00 1.28011870e+00]\n",
      "   [1.63466705e-03 4.03619109e-04 2.87050589e-05 ... 8.40391338e-01\n",
      "    2.13821411e+00 3.35670209e+00]\n",
      "   ...\n",
      "   [1.10040698e-03 1.64361950e-03 1.46230814e-04 ... 3.08951402e+00\n",
      "    1.68565691e+00 5.69508839e+00]\n",
      "   [3.42800329e-03 1.84684666e-03 0.00000000e+00 ... 3.35865235e+00\n",
      "    2.40966129e+00 5.02763319e+00]\n",
      "   [3.92644107e-03 2.77825602e-04 0.00000000e+00 ... 1.00255477e+00\n",
      "    7.49385178e-01 1.05904603e+00]]\n",
      "\n",
      "  [[9.73011891e-04 1.46877093e-04 2.35676216e-05 ... 0.00000000e+00\n",
      "    1.00811803e+00 9.85775948e-01]\n",
      "   [5.88926370e-04 8.72189004e-04 0.00000000e+00 ... 3.77992332e-01\n",
      "    2.35542297e+00 1.19857109e+00]\n",
      "   [8.81188025e-04 1.26265315e-03 0.00000000e+00 ... 4.66217935e-01\n",
      "    1.30413651e+00 1.77972460e+00]\n",
      "   ...\n",
      "   [0.00000000e+00 1.33558223e-03 0.00000000e+00 ... 1.04101682e+00\n",
      "    1.39217770e+00 1.72248805e+00]\n",
      "   [1.26444013e-03 5.92212309e-04 0.00000000e+00 ... 9.91935283e-02\n",
      "    1.21831286e+00 2.96071172e+00]\n",
      "   [1.28593459e-03 1.47820590e-03 1.10657071e-04 ... 0.00000000e+00\n",
      "    0.00000000e+00 1.90868664e+00]]\n",
      "\n",
      "  [[6.29678543e-05 9.13998985e-04 0.00000000e+00 ... 0.00000000e+00\n",
      "    2.29579031e-01 0.00000000e+00]\n",
      "   [3.55424709e-04 9.24664317e-04 0.00000000e+00 ... 1.74106196e-01\n",
      "    7.58429289e-01 0.00000000e+00]\n",
      "   [0.00000000e+00 1.61192496e-04 0.00000000e+00 ... 2.48671949e-01\n",
      "    1.19130194e-01 0.00000000e+00]\n",
      "   ...\n",
      "   [6.53626106e-04 4.10640321e-04 0.00000000e+00 ... 7.51372218e-01\n",
      "    3.92607063e-01 1.44965446e+00]\n",
      "   [3.82928934e-04 3.60273290e-04 9.44488711e-05 ... 3.38777721e-01\n",
      "    1.75400972e-01 3.06747580e+00]\n",
      "   [1.12957336e-04 2.21000821e-03 1.32509129e-04 ... 5.16263485e-01\n",
      "    0.00000000e+00 1.87809515e+00]]]\n",
      "\n",
      "\n",
      " [[[0.00000000e+00 6.31762529e-03 0.00000000e+00 ... 1.37183368e-01\n",
      "    1.05470276e+00 0.00000000e+00]\n",
      "   [1.19013991e-03 2.77269864e-03 2.52764119e-04 ... 7.41767406e-01\n",
      "    1.40167022e+00 0.00000000e+00]\n",
      "   [3.99223063e-04 1.02227391e-03 4.58470866e-04 ... 9.87985969e-01\n",
      "    6.44846201e-01 0.00000000e+00]\n",
      "   ...\n",
      "   [0.00000000e+00 1.05481036e-03 3.45678825e-04 ... 2.26709962e+00\n",
      "    0.00000000e+00 4.79388684e-01]\n",
      "   [8.05714692e-04 1.49035011e-03 2.97430262e-04 ... 7.91500628e-01\n",
      "    0.00000000e+00 4.37363505e-01]\n",
      "   [9.04984365e-04 3.42035107e-03 3.60358128e-04 ... 0.00000000e+00\n",
      "    0.00000000e+00 4.74015981e-01]]\n",
      "\n",
      "  [[4.00267134e-04 2.74975412e-03 2.97454360e-04 ... 0.00000000e+00\n",
      "    9.79672194e-01 0.00000000e+00]\n",
      "   [7.81614915e-04 1.72522035e-03 1.26583342e-04 ... 0.00000000e+00\n",
      "    1.52789259e+00 0.00000000e+00]\n",
      "   [1.04857143e-03 1.37946126e-03 6.01429492e-04 ... 0.00000000e+00\n",
      "    1.00204468e+00 0.00000000e+00]\n",
      "   ...\n",
      "   [0.00000000e+00 1.66048505e-03 2.20592701e-04 ... 9.91927803e-01\n",
      "    2.13639900e-01 1.90909934e+00]\n",
      "   [4.71069652e-04 9.55579104e-04 1.38788237e-04 ... 4.15921450e-01\n",
      "    1.87648341e-01 2.25015330e+00]\n",
      "   [1.01117045e-03 1.17827312e-03 0.00000000e+00 ... 0.00000000e+00\n",
      "    0.00000000e+00 1.57670879e+00]]\n",
      "\n",
      "  [[4.43548895e-04 2.11736211e-03 5.44300012e-04 ... 0.00000000e+00\n",
      "    7.04430401e-01 0.00000000e+00]\n",
      "   [5.26640273e-04 2.77508330e-03 7.65578123e-04 ... 0.00000000e+00\n",
      "    7.51653910e-01 0.00000000e+00]\n",
      "   [0.00000000e+00 1.03957980e-04 6.83784892e-04 ... 0.00000000e+00\n",
      "    9.21149671e-01 0.00000000e+00]\n",
      "   ...\n",
      "   [2.92689481e-04 2.08863476e-03 7.24038255e-05 ... 8.34458172e-01\n",
      "    9.79941487e-01 2.65412474e+00]\n",
      "   [7.65341218e-04 1.69943174e-04 3.15635116e-04 ... 6.50003552e-01\n",
      "    1.84936202e+00 3.79891634e+00]\n",
      "   [0.00000000e+00 0.00000000e+00 4.35048481e-04 ... 0.00000000e+00\n",
      "    6.17937922e-01 2.81928945e+00]]\n",
      "\n",
      "  ...\n",
      "\n",
      "  [[1.23126805e-03 2.16005510e-03 3.34326818e-04 ... 2.82801390e-01\n",
      "    0.00000000e+00 1.61036503e+00]\n",
      "   [2.05152994e-03 2.56673433e-03 2.50774377e-04 ... 3.16272676e-03\n",
      "    0.00000000e+00 1.07941616e+00]\n",
      "   [0.00000000e+00 1.82571681e-03 1.83650918e-04 ... 0.00000000e+00\n",
      "    0.00000000e+00 1.73849046e+00]\n",
      "   ...\n",
      "   [1.55487374e-04 1.21650170e-03 1.56796057e-04 ... 3.03884983e-01\n",
      "    8.83934379e-01 5.12598801e+00]\n",
      "   [9.99516109e-04 6.77991426e-04 1.77962153e-04 ... 2.74622709e-01\n",
      "    1.73793781e+00 5.54122162e+00]\n",
      "   [2.77814979e-04 1.54177938e-03 1.96806606e-04 ... 6.31514668e-01\n",
      "    5.94976664e-01 5.25125933e+00]]\n",
      "\n",
      "  [[0.00000000e+00 1.56977004e-03 0.00000000e+00 ... 6.46584213e-01\n",
      "    0.00000000e+00 3.50001097e+00]\n",
      "   [0.00000000e+00 2.78372993e-03 0.00000000e+00 ... 1.12462163e+00\n",
      "    0.00000000e+00 3.40932894e+00]\n",
      "   [0.00000000e+00 2.37472542e-03 0.00000000e+00 ... 1.22789121e+00\n",
      "    7.48794079e-02 3.42015195e+00]\n",
      "   ...\n",
      "   [1.83822028e-03 1.38581707e-03 0.00000000e+00 ... 2.69857192e+00\n",
      "    6.74974263e-01 3.81244087e+00]\n",
      "   [1.64264243e-03 2.45030504e-03 0.00000000e+00 ... 1.66222119e+00\n",
      "    8.37216914e-01 3.49546194e+00]\n",
      "   [3.93825525e-04 2.46557826e-03 1.19515516e-05 ... 1.18327713e+00\n",
      "    0.00000000e+00 3.65990448e+00]]\n",
      "\n",
      "  [[0.00000000e+00 1.35375420e-03 0.00000000e+00 ... 0.00000000e+00\n",
      "    2.00513989e-01 1.99813163e+00]\n",
      "   [0.00000000e+00 6.11903961e-04 0.00000000e+00 ... 5.96104443e-01\n",
      "    0.00000000e+00 2.36197948e+00]\n",
      "   [3.61587299e-05 1.18215324e-03 0.00000000e+00 ... 1.51186085e+00\n",
      "    6.41379237e-01 1.09229565e+00]\n",
      "   ...\n",
      "   [1.19597837e-03 2.22999975e-03 0.00000000e+00 ... 3.41605806e+00\n",
      "    0.00000000e+00 2.19183254e+00]\n",
      "   [3.18406237e-05 1.87193230e-03 9.30143142e-05 ... 2.33568954e+00\n",
      "    0.00000000e+00 2.80102587e+00]\n",
      "   [0.00000000e+00 1.37977209e-03 1.04948034e-04 ... 1.97074199e+00\n",
      "    0.00000000e+00 3.02248979e+00]]]]\n"
     ]
    }
   ],
   "source": [
    "print('test data', test_data)\n",
    "preds = np.round(model.predict(test_data),0) "
   ]
  },
  {
   "cell_type": "code",
   "execution_count": 41,
   "metadata": {},
   "outputs": [
    {
     "name": "stdout",
     "output_type": "stream",
     "text": [
      "              precision    recall  f1-score   support\n",
      "\n",
      "   non-vegan       0.65      0.41      0.50       179\n",
      "       vegan       0.72      0.78      0.75       263\n",
      "\n",
      "   micro avg       0.70      0.63      0.66       442\n",
      "   macro avg       0.68      0.60      0.62       442\n",
      "weighted avg       0.69      0.63      0.65       442\n",
      " samples avg       0.63      0.63      0.63       442\n",
      "\n"
     ]
    },
    {
     "name": "stderr",
     "output_type": "stream",
     "text": [
      "/opt/anaconda3/lib/python3.7/site-packages/sklearn/metrics/_classification.py:1221: UndefinedMetricWarning: Precision and F-score are ill-defined and being set to 0.0 in samples with no predicted labels. Use `zero_division` parameter to control this behavior.\n",
      "  _warn_prf(average, modifier, msg_start, len(result))\n"
     ]
    }
   ],
   "source": [
    "animals = ['non-vegan', 'vegan']\n",
    "classification_metrics = metrics.classification_report(test_labels, preds, target_names=animals )\n",
    "print(classification_metrics)"
   ]
  },
  {
   "cell_type": "code",
   "execution_count": 42,
   "metadata": {},
   "outputs": [],
   "source": [
    "categorical_test_labels = pd.DataFrame(test_labels).idxmax(axis=1)\n",
    "categorical_preds = pd.DataFrame(preds).idxmax(axis=1)\n",
    "\n",
    "confusion_matrix= confusion_matrix(categorical_test_labels, categorical_preds)"
   ]
  },
  {
   "cell_type": "code",
   "execution_count": 43,
   "metadata": {},
   "outputs": [],
   "source": [
    "#To get better visual of the confusion matrix:\n",
    "def plot_confusion_matrix(cm, classes,\n",
    "             normalize=False,\n",
    "             title='Confusion matrix',\n",
    "             cmap=plt.cm.Blues):\n",
    "    #Add Normalization Option\n",
    "    '''prints pretty confusion metric with normalization option '''\n",
    "    if normalize:\n",
    "        cm = cm.astype('float') / cm.sum(axis=1)[:, np.newaxis]\n",
    "        print(\"Normalized confusion matrix\")\n",
    "    else:\n",
    "        print('Confusion matrix, without normalization')\n",
    "    \n",
    "#     print(cm)\n",
    "    \n",
    "    plt.imshow(cm, interpolation='nearest', cmap=cmap)\n",
    "    plt.title(title)\n",
    "    plt.colorbar()\n",
    "    tick_marks = np.arange(len(classes))\n",
    "    plt.xticks(tick_marks, classes, rotation=45)\n",
    "    plt.yticks(tick_marks, classes)\n",
    "    \n",
    "    fmt = '.2f' if normalize else 'd'\n",
    "    thresh = cm.max() / 2.\n",
    "    for i, j in itertools.product(range(cm.shape[0]), range(cm.shape[1])):\n",
    "        plt.text(j, i, format(cm[i, j], fmt), horizontalalignment=\"center\", color=\"white\" if cm[i, j] > thresh else \"black\")\n",
    "    \n",
    "    plt.tight_layout()\n",
    "    plt.ylabel('True label')\n",
    "    plt.xlabel('Predicted label')"
   ]
  },
  {
   "cell_type": "code",
   "execution_count": 44,
   "metadata": {},
   "outputs": [
    {
     "name": "stdout",
     "output_type": "stream",
     "text": [
      "Confusion matrix, without normalization\n"
     ]
    },
    {
     "data": {
      "image/png": "[encoded data removed]",
      "text/plain": [
       "<Figure size 432x288 with 2 Axes>"
      ]
     },
     "metadata": {
      "needs_background": "light"
     },
     "output_type": "display_data"
    }
   ],
   "source": [
    "plot_confusion_matrix(confusion_matrix, ['non-vegan', 'vegan'])"
   ]
  },
  {
   "cell_type": "code",
   "execution_count": 45,
   "metadata": {},
   "outputs": [
    {
     "name": "stdout",
     "output_type": "stream",
     "text": [
      "Normalized confusion matrix\n"
     ]
    },
    {
     "data": {
      "image/png": "[encoded data removed]",
      "text/plain": [
       "<Figure size 432x288 with 2 Axes>"
      ]
     },
     "metadata": {
      "needs_background": "light"
     },
     "output_type": "display_data"
    }
   ],
   "source": [
    "#Those numbers are all over the place. Now turning normalize= True\n",
    "plot_confusion_matrix(confusion_matrix, \n",
    "                      ['non-vegan', 'vegan'],\n",
    "                     normalize=True)"
   ]
  },
  {
   "cell_type": "markdown",
   "metadata": {},
   "source": [
    "## densenet\n"
   ]
  },
  {
   "cell_type": "code",
   "execution_count": 22,
   "metadata": {},
   "outputs": [
    {
     "name": "stdout",
     "output_type": "stream",
     "text": [
      "Downloading data from https://storage.googleapis.com/tensorflow/keras-applications/densenet/densenet169_weights_tf_dim_ordering_tf_kernels_notop.h5\n",
      "51879936/51877672 [==============================] - 28s 1us/step\n"
     ]
    }
   ],
   "source": [
    "#Loading densenet model\n",
    "densenet = applications.DenseNet169(include_top=False, weights='imagenet') "
   ]
  },
  {
   "cell_type": "code",
   "execution_count": 24,
   "metadata": {},
   "outputs": [
    {
     "name": "stdout",
     "output_type": "stream",
     "text": [
      "Found 8737 images belonging to 2 classes.\n",
      "Time:  0:12:43.656642\n"
     ]
    }
   ],
   "source": [
    "#__this can take an hour and half to run so only run it once. \n",
    "#once the npy files have been created, no need to run again. Convert this cell to a code cell to run.__\n",
    "\n",
    "start = datetime.datetime.now()\n",
    "   \n",
    "generator = datagen.flow_from_directory(  \n",
    "     train_data_dir,  \n",
    "     target_size=(img_width, img_height),  \n",
    "     batch_size=batch_size,  \n",
    "     class_mode=None,  \n",
    "     shuffle=False)  \n",
    "   \n",
    "nb_train_samples = len(generator.filenames)  \n",
    "num_classes = len(generator.class_indices)  \n",
    "   \n",
    "predict_size_train = int(math.ceil(nb_train_samples / batch_size))  \n",
    "   \n",
    "bottleneck_features_train = densenet.predict(generator, predict_size_train)  \n",
    "   \n",
    "np.save('bottleneck_features_train_densenet.npy', bottleneck_features_train)\n",
    "end= datetime.datetime.now()\n",
    "elapsed= end-start\n",
    "print ('Time: ', elapsed)"
   ]
  },
  {
   "cell_type": "code",
   "execution_count": 25,
   "metadata": {},
   "outputs": [
    {
     "name": "stdout",
     "output_type": "stream",
     "text": [
      "Found 1961 images belonging to 2 classes.\n",
      "Time:  0:02:43.435012\n"
     ]
    }
   ],
   "source": [
    "#__this can take half an hour to run so only run it once. once the npy files have been created, no need to run again. Convert this cell to a code cell to run.__\n",
    "\n",
    "start = datetime.datetime.now()\n",
    "generator = datagen.flow_from_directory(  \n",
    "     validation_data_dir,  \n",
    "     target_size=(img_width, img_height),  \n",
    "     batch_size=batch_size,  \n",
    "     class_mode=None,  \n",
    "     shuffle=False)  \n",
    "   \n",
    "nb_validation_samples = len(generator.filenames)  \n",
    "   \n",
    "predict_size_validation = int(math.ceil(nb_validation_samples / batch_size))  \n",
    "   \n",
    "bottleneck_features_validation = densenet.predict(  \n",
    "     generator, predict_size_validation)  \n",
    "   \n",
    "np.save('bottleneck_features_validation_densenet.npy', bottleneck_features_validation) \n",
    "end= datetime.datetime.now()\n",
    "elapsed= end-start\n",
    "print ('Time: ', elapsed)"
   ]
  },
  {
   "cell_type": "code",
   "execution_count": 26,
   "metadata": {},
   "outputs": [
    {
     "name": "stdout",
     "output_type": "stream",
     "text": [
      "Found 442 images belonging to 2 classes.\n",
      "Time:  0:00:36.254424\n"
     ]
    }
   ],
   "source": [
    "#__this can take half an hour to run so only run it once. once the npy files have been created, no need to run again. Convert this cell to a code cell to run.__\n",
    "\n",
    "start = datetime.datetime.now()\n",
    "generator = datagen.flow_from_directory(  \n",
    "     test_data_dir,  \n",
    "     target_size=(img_width, img_height),  \n",
    "     batch_size=batch_size,  \n",
    "     class_mode=None,  \n",
    "     shuffle=False)  \n",
    "   \n",
    "nb_validation_samples = len(generator.filenames)  \n",
    "   \n",
    "predict_size_validation = int(math.ceil(nb_validation_samples / batch_size))  \n",
    "   \n",
    "bottleneck_features_validation = densenet.predict(  \n",
    "     generator, predict_size_validation)  \n",
    "   \n",
    "np.save('bottleneck_features_test_densenet.npy', bottleneck_features_validation) \n",
    "end= datetime.datetime.now()\n",
    "elapsed= end-start\n",
    "print ('Time: ', elapsed)"
   ]
  },
  {
   "cell_type": "code",
   "execution_count": null,
   "metadata": {},
   "outputs": [],
   "source": []
  }
 ],
 "metadata": {
  "kernelspec": {
   "display_name": "Python 3",
   "language": "python",
   "name": "python3"
  },
  "language_info": {
   "codemirror_mode": {
    "name": "ipython",
    "version": 3
   },
   "file_extension": ".py",
   "mimetype": "text/x-python",
   "name": "python",
   "nbconvert_exporter": "python",
   "pygments_lexer": "ipython3",
   "version": "3.7.4"
  }
 },
 "nbformat": 4,
 "nbformat_minor": 2
}
